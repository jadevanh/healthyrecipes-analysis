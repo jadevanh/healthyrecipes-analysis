{
 "cells": [
  {
   "cell_type": "markdown",
   "metadata": {},
   "source": [
    "# Portfolio Project: Recipes and Ratings\n",
    "\n",
    "**Name(s)**: Megan Bowen and Jade Vanhaitsma"
   ]
  },
  {
   "cell_type": "code",
   "execution_count": null,
   "metadata": {
    "ExecuteTime": {
     "end_time": "2019-10-31T23:36:28.652554Z",
     "start_time": "2019-10-31T23:36:27.180520Z"
    }
   },
   "outputs": [],
   "source": [
    "import pandas as pd\n",
    "import numpy as np\n",
    "\n",
    "import plotly.express as px\n",
    "pd.options.plotting.backend = 'plotly'\n",
    "\n",
    "from lec_utils import * # Feel free to uncomment and use this. It'll make your plotly graphs look like ours in lecture!"
   ]
  },
  {
   "cell_type": "markdown",
   "metadata": {},
   "source": [
    "## Step 1: Introduction"
   ]
  },
  {
   "cell_type": "code",
   "execution_count": null,
   "metadata": {},
   "outputs": [],
   "source": [
    "interactions = pd.read_csv('food_data/RAW_interactions.csv')\n",
    "recipes = pd.read_csv('food_data/RAW_recipes.csv')"
   ]
  },
  {
   "cell_type": "code",
   "execution_count": null,
   "metadata": {},
   "outputs": [],
   "source": [
    "rr = pd.merge(recipes, interactions, left_on='id', right_on='recipe_id', how='left')\n",
    "rr"
   ]
  },
  {
   "cell_type": "code",
   "execution_count": null,
   "metadata": {},
   "outputs": [],
   "source": [
    "fig = px.histogram(rr, \n",
    "             x='rating', title = 'Rating Distribution')\n",
    "fig.write_html('ratingRaw.html', include_plotlyjs='cdn')\n",
    "fig.show()"
   ]
  },
  {
   "cell_type": "code",
   "execution_count": null,
   "metadata": {},
   "outputs": [],
   "source": [
    "rr['rating'] = rr['rating'].apply(lambda r: np.nan if r == 0 else r)"
   ]
  },
  {
   "cell_type": "code",
   "execution_count": null,
   "metadata": {},
   "outputs": [],
   "source": [
    "fig = px.histogram(rr, \n",
    "             x='rating', title = 'Rating Distribution')\n",
    "fig.write_html('ratingClean.html', include_plotlyjs='cdn')\n",
    "\n",
    "fig.show()"
   ]
  },
  {
   "cell_type": "code",
   "execution_count": null,
   "metadata": {},
   "outputs": [],
   "source": [
    "avg_r = rr.groupby('id')[['rating']].apply(lambda g: g.mean(skipna=True)).reset_index()\n",
    "rr = rr.merge(avg_r, on='id')"
   ]
  },
  {
   "cell_type": "code",
   "execution_count": null,
   "metadata": {},
   "outputs": [],
   "source": [
    "rr = rr.rename(columns={\"rating_x\":\"rating\", \"rating_y\": \"avg_rating\"})\n",
    "rr"
   ]
  },
  {
   "cell_type": "markdown",
   "metadata": {},
   "source": [
    "## Step 2: Data Cleaning and Exploratory Data Analysis"
   ]
  },
  {
   "cell_type": "code",
   "execution_count": null,
   "metadata": {
    "ExecuteTime": {
     "end_time": "2019-10-31T23:36:28.657068Z",
     "start_time": "2019-10-31T23:36:28.654650Z"
    }
   },
   "outputs": [],
   "source": [
    "# TODO\n",
    "rr.info()"
   ]
  },
  {
   "cell_type": "code",
   "execution_count": null,
   "metadata": {
    "ExecuteTime": {
     "end_time": "2019-10-31T23:36:28.662099Z",
     "start_time": "2019-10-31T23:36:28.660016Z"
    }
   },
   "outputs": [],
   "source": [
    "#getting relevant cols\n",
    "rr_filtered = rr[['name', 'id', 'minutes', 'submitted', 'tags', 'nutrition', 'n_steps', 'ingredients', 'n_ingredients', 'user_id', \n",
    "                  'rating', 'avg_rating']]\n",
    "rr_filtered.head()"
   ]
  },
  {
   "cell_type": "code",
   "execution_count": null,
   "metadata": {
    "scrolled": true
   },
   "outputs": [],
   "source": [
    "#adding n_rating column\n",
    "rr_filtered['n_rating'] = rr_filtered.groupby('id')['id'].transform('count')\n",
    "rr_filtered.head()"
   ]
  },
  {
   "cell_type": "code",
   "execution_count": null,
   "metadata": {},
   "outputs": [],
   "source": [
    "rr_filtered = rr_filtered.groupby('id')[['name', 'submitted', 'minutes', 'tags', 'nutrition', 'n_steps', 'ingredients', \n",
    "                                         'n_ingredients', 'n_rating', 'avg_rating']].max()"
   ]
  },
  {
   "cell_type": "code",
   "execution_count": null,
   "metadata": {},
   "outputs": [],
   "source": [
    "#drop na ratings? bc nothing to compare against\n",
    "rr_filtered = rr_filtered[rr_filtered['avg_rating'].notna()]"
   ]
  },
  {
   "cell_type": "code",
   "execution_count": null,
   "metadata": {},
   "outputs": [],
   "source": [
    "# number of tags, drop ingredients and tags columns\n",
    "rr_filtered['n_tags'] = rr_filtered['tags'].transform(lambda r: r.count(',') + 1)"
   ]
  },
  {
   "cell_type": "code",
   "execution_count": null,
   "metadata": {},
   "outputs": [],
   "source": [
    "rr_filtered[['calories', 'total fat', 'sugar', 'sodium', 'protein', 'saturated fat', 'carbohydrates']] = rr_filtered['nutrition'].str.split(',', expand=True)\n",
    "rr_filtered['calories'] = rr_filtered['calories'].str.replace('[', '')\n",
    "rr_filtered['carbohydrates'] = rr_filtered['carbohydrates'].str.replace(']', '')\n",
    "rr_filtered[['calories', 'total fat', 'sugar', 'sodium', 'protein', 'saturated fat', 'carbohydrates']] = rr_filtered[['calories', 'total fat', 'sugar', 'sodium', 'protein', 'saturated fat', 'carbohydrates']].astype(float)\n",
    "rr_filtered"
   ]
  },
  {
   "cell_type": "code",
   "execution_count": null,
   "metadata": {},
   "outputs": [],
   "source": [
    "rr_filtered['year'] = rr_filtered['submitted'].transform(lambda s: s[:4]).astype(float)\n",
    "rr_filtered['healthy_tag'] = rr_filtered['tags'].apply(lambda t: 1 if 'healthy' in t else 0)\n",
    "rr_filtered.head()"
   ]
  },
  {
   "cell_type": "code",
   "execution_count": null,
   "metadata": {
    "scrolled": true
   },
   "outputs": [],
   "source": [
    "rr_filtered = rr_filtered.drop(['tags', 'ingredients', 'nutrition'], axis=1)\n",
    "rr_filtered.head()"
   ]
  },
  {
   "cell_type": "code",
   "execution_count": null,
   "metadata": {},
   "outputs": [],
   "source": [
    "fig = px.histogram(rr_filtered, \n",
    "             x='healthy_tag', \n",
    "                   title='Healthy Tag Distribution')\n",
    "\n",
    "fig.show()\n",
    "fig.write_html('healthytag_dist.html', include_plotlyjs='cdn')"
   ]
  },
  {
   "cell_type": "code",
   "execution_count": null,
   "metadata": {},
   "outputs": [],
   "source": [
    "fig = px.histogram(rr_filtered, \n",
    "             x='total fat', title='Total Fat Distribution Cropped')\n",
    "\n",
    "median_value = np.median(rr_filtered[\"total fat\"])\n",
    "\n",
    "# Add the median line\n",
    "fig.add_vline(x=median_value, line_width=3, line_dash=\"dash\", line_color=\"red\")\n",
    "fig.update_layout(xaxis=dict(range=[0, 200]))\n",
    "\n",
    "fig.write_html('total_fatCrop.html', include_plotlyjs='cdn')\n",
    "fig.show()"
   ]
  },
  {
   "cell_type": "code",
   "execution_count": null,
   "metadata": {},
   "outputs": [],
   "source": [
    "np.median(rr_filtered[\"saturated fat\"]), np.median(rr_filtered[\"sugar\"])"
   ]
  },
  {
   "cell_type": "code",
   "execution_count": null,
   "metadata": {},
   "outputs": [],
   "source": [
    "fig = px.histogram(rr_filtered, \n",
    "             x='total fat', title='Total Fat Distribution')\n",
    "\n",
    "median_value = np.median(rr_filtered[\"total fat\"])\n",
    "\n",
    "# Add the median line\n",
    "fig.add_vline(x=median_value, line_width=3, line_dash=\"dash\", line_color=\"red\")\n",
    "fig.write_html('total_fatReg.html', include_plotlyjs='cdn')\n",
    "\n",
    "fig.show()"
   ]
  },
  {
   "cell_type": "code",
   "execution_count": null,
   "metadata": {},
   "outputs": [],
   "source": [
    "fig = px.histogram(rr_filtered, \n",
    "             x='sugar')\n",
    "\n",
    "fig.show()"
   ]
  },
  {
   "cell_type": "code",
   "execution_count": null,
   "metadata": {},
   "outputs": [],
   "source": [
    "fig = px.box(rr_filtered, x='healthy_tag', y='calories', title='Healthy vs Unhealthy Calorie Distributions (Full Range)')\n",
    "fig.show()\n",
    "fig.write_html('calorie_allrange.html', include_plotlyjs='cdn')"
   ]
  },
  {
   "cell_type": "code",
   "execution_count": null,
   "metadata": {},
   "outputs": [],
   "source": [
    "fig = px.box(rr_filtered, x='healthy_tag', y='calories', title='Healthy vs Unhealthy Calorie Distributions (Cropped Range)')\n",
    "fig.update_layout(yaxis=dict(range=[0, 2000]))\n",
    "fig.show()\n",
    "fig.write_html('calorie_cropped.html', include_plotlyjs='cdn')"
   ]
  },
  {
   "cell_type": "code",
   "execution_count": null,
   "metadata": {},
   "outputs": [],
   "source": [
    "fig = px.box(rr_filtered, x='healthy_tag', y='total fat', title='Healthy vs Unhealthy Calorie Distributions (Concentrated Range)')\n",
    "fig.update_layout(xaxis=dict(range=[0, 500]))\n",
    "fig.show()"
   ]
  },
  {
   "cell_type": "code",
   "execution_count": null,
   "metadata": {},
   "outputs": [],
   "source": []
  },
  {
   "cell_type": "code",
   "execution_count": null,
   "metadata": {
    "scrolled": true
   },
   "outputs": [],
   "source": [
    "fig = px.scatter(rr_filtered, x='calories', y='protein')\n",
    "fig.show()"
   ]
  },
  {
   "cell_type": "code",
   "execution_count": null,
   "metadata": {},
   "outputs": [],
   "source": [
    "fig = px.scatter(rr_filtered, x='calories', y='total fat')\n",
    "fig.show()"
   ]
  },
  {
   "cell_type": "code",
   "execution_count": null,
   "metadata": {},
   "outputs": [],
   "source": [
    "fig = px.scatter(rr_filtered, x='calories', y='carbohydrates')\n",
    "fig.show()"
   ]
  },
  {
   "cell_type": "code",
   "execution_count": null,
   "metadata": {
    "scrolled": true
   },
   "outputs": [],
   "source": [
    "fig = px.scatter(rr_filtered, x='avg_rating', y='calories')\n",
    "fig.show()"
   ]
  },
  {
   "cell_type": "code",
   "execution_count": null,
   "metadata": {
    "scrolled": true
   },
   "outputs": [],
   "source": [
    "fig = px.box(rr_filtered, x='healthy_tag', y='avg_rating')\n",
    "fig.show()"
   ]
  },
  {
   "cell_type": "code",
   "execution_count": null,
   "metadata": {},
   "outputs": [],
   "source": [
    "rr_filtered_grouped = rr_filtered.groupby('healthy_tag')[['calories', 'total fat', 'sugar', 'sodium', 'protein', 'saturated fat', 'carbohydrates']].median()\n",
    "rr_filtered_grouped"
   ]
  },
  {
   "cell_type": "code",
   "execution_count": null,
   "metadata": {},
   "outputs": [],
   "source": [
    "rr_filtered.groupby('year')[['calories', 'total fat', 'sugar', 'sodium', 'protein', 'saturated fat', 'carbohydrates']].median()"
   ]
  },
  {
   "cell_type": "markdown",
   "metadata": {},
   "source": [
    "## Step 3: Framing a Prediction Problem"
   ]
  },
  {
   "cell_type": "code",
   "execution_count": null,
   "metadata": {
    "ExecuteTime": {
     "end_time": "2019-10-31T23:36:28.657068Z",
     "start_time": "2019-10-31T23:36:28.654650Z"
    }
   },
   "outputs": [],
   "source": [
    "#Predict if recipe will be tagged as healthy or not"
   ]
  },
  {
   "cell_type": "markdown",
   "metadata": {},
   "source": [
    "## Step 4: Baseline Model"
   ]
  },
  {
   "cell_type": "code",
   "execution_count": null,
   "metadata": {},
   "outputs": [],
   "source": [
    "from sklearn.model_selection import train_test_split\n",
    "from sklearn.linear_model import LogisticRegression"
   ]
  },
  {
   "cell_type": "code",
   "execution_count": null,
   "metadata": {
    "ExecuteTime": {
     "end_time": "2019-10-31T23:36:28.662099Z",
     "start_time": "2019-10-31T23:36:28.660016Z"
    }
   },
   "outputs": [],
   "source": [
    "# TODO\n",
    "# can take the most common tags rather talkign soley the unique tags\n",
    "# looking for items that could be healthy/unhealthy -- \n",
    "# use these as a way to look for healthy and un\n",
    "# logistic regression with calories as predictor and saturated fat as predictors?\n",
    "X_train, X_test, y_train, y_test = (\n",
    "    train_test_split(rr_filtered[['calories', 'total fat', 'sugar', 'sodium', 'protein', 'saturated fat', 'carbohydrates', 'minutes', 'year', 'avg_rating', 'n_ingredients', 'n_steps', 'n_rating']], rr_filtered['healthy_tag'])\n",
    ")"
   ]
  },
  {
   "cell_type": "code",
   "execution_count": null,
   "metadata": {},
   "outputs": [],
   "source": [
    "from sklearn.pipeline import FunctionTransformer, make_pipeline\n",
    "from sklearn.preprocessing import StandardScaler"
   ]
  },
  {
   "cell_type": "code",
   "execution_count": null,
   "metadata": {},
   "outputs": [],
   "source": [
    "base_model = make_pipeline(LogisticRegression(max_iter=1000))\n",
    "base_model.fit(X_train[['sugar', 'sodium', 'saturated fat']], y_train)\n",
    "base_model"
   ]
  },
  {
   "cell_type": "code",
   "execution_count": null,
   "metadata": {
    "scrolled": true
   },
   "outputs": [],
   "source": [
    "base_model.score(X_test[['sugar', 'sodium','saturated fat']], y_test)"
   ]
  },
  {
   "cell_type": "code",
   "execution_count": null,
   "metadata": {},
   "outputs": [],
   "source": [
    "from sklearn.metrics import accuracy_score, precision_score, recall_score\n",
    "# look at total fat, proteins and carbs\n",
    "y_pred = base_model.predict(X_test[['sugar', 'sodium', 'saturated fat']])\n",
    "\n",
    "accuracy = accuracy_score(y_test, y_pred)\n",
    "print(\"Accuracy:\", accuracy)\n",
    "\n",
    "precision = precision_score(y_test, y_pred)\n",
    "print(\"Precision:\", precision)\n",
    "\n",
    "recall = recall_score(y_test, y_pred)\n",
    "print(\"Recall:\", recall)"
   ]
  },
  {
   "cell_type": "code",
   "execution_count": null,
   "metadata": {},
   "outputs": [],
   "source": [
    "# base_model.predict_proba(pd.DataFrame([{\n",
    "#     'calories': 200,\n",
    "#     'total fat': 8\n",
    "# }]))"
   ]
  },
  {
   "cell_type": "code",
   "execution_count": null,
   "metadata": {
    "scrolled": true
   },
   "outputs": [],
   "source": [
    "# base_model.predict(pd.DataFrame([{\n",
    "#     'calories': 200,\n",
    "#     'total fat': 8\n",
    "# }]))"
   ]
  },
  {
   "cell_type": "code",
   "execution_count": null,
   "metadata": {},
   "outputs": [],
   "source": [
    "base_model['logisticregression'].intercept_[0], [base_model['logisticregression'].coef_[0][i] for i in range(3)]"
   ]
  },
  {
   "cell_type": "code",
   "execution_count": null,
   "metadata": {},
   "outputs": [],
   "source": [
    "# w0_star = base_model['logisticregression'].intercept_[0]\n",
    "# w1_star = base_model['logisticregression'].coef_[0][0]\n",
    "# T = 0.5\n",
    "# cal_threshold = (np.log(T / (1 - T)) - w0_star) / w1_star\n",
    "# cal_threshold"
   ]
  },
  {
   "cell_type": "code",
   "execution_count": null,
   "metadata": {},
   "outputs": [],
   "source": [
    "#notes-- probably not super generalizable, using accuracy/precision/recall to assess\n",
    "#honestly seems like its just classifying all as not healthy tag\n",
    "#also only uses nutritional content of recipes, could be other featuress of data that are related to tagged healthy/not"
   ]
  },
  {
   "cell_type": "markdown",
   "metadata": {},
   "source": [
    "## Step 5: Final Model"
   ]
  },
  {
   "cell_type": "code",
   "execution_count": null,
   "metadata": {
    "ExecuteTime": {
     "end_time": "2019-10-31T23:36:28.662099Z",
     "start_time": "2019-10-31T23:36:28.660016Z"
    }
   },
   "outputs": [],
   "source": [
    "# TODO\n",
    "# cv to determine which are best ? and then idk run it annd assess precision/accuracy/recall"
   ]
  },
  {
   "cell_type": "code",
   "execution_count": null,
   "metadata": {},
   "outputs": [],
   "source": [
    "from sklearn.model_selection import GridSearchCV"
   ]
  },
  {
   "cell_type": "code",
   "execution_count": null,
   "metadata": {},
   "outputs": [],
   "source": [
    "final_model1 = make_pipeline(LogisticRegression(max_iter=1000, solver='liblinear'))\n",
    "\n",
    "# Create a parameter grid\n",
    "param_grid = {\n",
    "    'logisticregression__C': [0.1, 1, 10, 100],\n",
    "    'logisticregression__penalty': ['l1', 'l2']\n",
    "}\n",
    " \n",
    "# Create GridSearchCV object\n",
    "grid_search = GridSearchCV(final_model1, param_grid, cv=5)\n",
    " \n",
    "# Fit the model\n",
    "grid_search.fit(X_train[['calories', 'total fat', 'sugar', 'sodium', 'protein', 'saturated fat', 'carbohydrates']], y_train)\n",
    " \n",
    "# Print best parameters and best score\n",
    "print(\"Best Parameters:\", grid_search.best_params_)\n",
    "print(\"Best Score:\", grid_search.best_score_)"
   ]
  },
  {
   "cell_type": "code",
   "execution_count": null,
   "metadata": {},
   "outputs": [],
   "source": [
    "from sklearn.tree import DecisionTreeClassifier\n",
    "\n",
    "model_tree2 = DecisionTreeClassifier(max_depth=3)\n",
    "model_tree2.fit(X_train, y_train)\n",
    "model_tree2.score(X_test, y_test)"
   ]
  },
  {
   "cell_type": "code",
   "execution_count": null,
   "metadata": {},
   "outputs": [],
   "source": [
    "from sklearn.tree import plot_tree\n",
    "plt.figure(figsize=(13, 5))\n",
    "plot_tree(model_tree2, feature_names=X_train.columns, class_names=['not healthy', 'yes healthy'], \n",
    "          filled=True, fontsize=10, impurity=False);"
   ]
  },
  {
   "cell_type": "code",
   "execution_count": null,
   "metadata": {},
   "outputs": [],
   "source": [
    "final_model2 = make_pipeline(LogisticRegression(max_iter=1000, solver='liblinear'))\n",
    "# Create a parameter grid\n",
    "param_grid = {\n",
    "    'logisticregression__C': [0.1, 1, 10, 100],\n",
    "    'logisticregression__penalty': ['l1', 'l2']\n",
    "}\n",
    " \n",
    "# Create GridSearchCV object\n",
    "grid_search = GridSearchCV(final_model2, param_grid, cv=5)\n",
    " \n",
    "# Fit the model\n",
    "grid_search.fit(X_train, y_train)\n",
    " \n",
    "# Print best parameters and best score\n",
    "print(\"Best Parameters:\", grid_search.best_params_)\n",
    "print(\"Best Score:\", grid_search.best_score_)"
   ]
  },
  {
   "cell_type": "code",
   "execution_count": null,
   "metadata": {},
   "outputs": [],
   "source": [
    "from sklearn.compose import make_column_transformer\n",
    "from sklearn.preprocessing import QuantileTransformer"
   ]
  },
  {
   "cell_type": "code",
   "execution_count": null,
   "metadata": {},
   "outputs": [],
   "source": [
    "col_transformer = make_column_transformer(\n",
    "        (QuantileTransformer(), ['minutes', 'calories', 'total fat', 'sugar', 'sodium', 'protein', 'saturated fat', 'carbohydrates']),\n",
    "        (StandardScaler(), ['year', 'avg_rating', 'n_ingredients', 'n_steps', 'n_rating']),\n",
    "    )\n",
    "\n",
    "final_model3 = make_pipeline(col_transformer, LogisticRegression(max_iter=1000, solver='liblinear'))\n",
    "\n",
    "param_grid = {\n",
    "    'logisticregression__C': [0.1, 1, 10, 100],\n",
    "    'logisticregression__penalty': ['l1', 'l2']\n",
    "}\n",
    " \n",
    "# Create GridSearchCV object\n",
    "grid_search = GridSearchCV(final_model2, param_grid, cv=5)\n",
    " \n",
    "# Fit the model\n",
    "grid_search.fit(X_train, y_train)\n",
    " \n",
    "# Print best parameters and best score\n",
    "print(\"Best Parameters:\", grid_search.best_params_)\n",
    "print(\"Best Score:\", grid_search.best_score_)"
   ]
  },
  {
   "cell_type": "code",
   "execution_count": null,
   "metadata": {},
   "outputs": [],
   "source": [
    "\n",
    "from sklearn.tree import DecisionTreeClassifier\n",
    "\n",
    "model_tree = DecisionTreeClassifier(max_depth=3)\n",
    "model_tree.fit(X_train, y_train)"
   ]
  },
  {
   "cell_type": "code",
   "execution_count": null,
   "metadata": {},
   "outputs": [],
   "source": [
    "model_tree.score(X_test, y_test)"
   ]
  },
  {
   "cell_type": "code",
   "execution_count": null,
   "metadata": {},
   "outputs": [],
   "source": [
    "from sklearn.tree import plot_tree\n",
    "plt.figure(figsize=(13, 5))\n",
    "plot_tree(model_tree, feature_names=X_train.columns, class_names=['not healthy', 'yes healthy'], \n",
    "          filled=True, fontsize=10, impurity=False);"
   ]
  },
  {
   "cell_type": "code",
   "execution_count": null,
   "metadata": {},
   "outputs": [],
   "source": [
    "def show_decision_boundary(model, X_train, y_train, title=''):\n",
    "    from sklearn.inspection import DecisionBoundaryDisplay\n",
    "\n",
    "    import matplotlib.colors\n",
    "    cmap = matplotlib.colors.ListedColormap([\"orange\", \"blue\"])\n",
    "\n",
    "    disp = DecisionBoundaryDisplay.from_estimator(\n",
    "        model, X_train, response_method='predict', cmap=cmap, grid_resolution=400,\n",
    "        alpha=0.5,\n",
    "    )\n",
    "    disp.ax_.scatter(X_train.loc[y_train == 0, 'healthy_tag'], X_train.loc[y_train == 0, 'BMI'], color='orange', s=25, label='no diabetes');\n",
    "    disp.ax_.scatter(X_train.loc[y_train == 1, 'healthy_tag'], X_train.loc[y_train == 1, 'BMI'], color='blue', s=25, label\n",
    "    ='diabetes');\n",
    "    plt.title(title, fontsize=20)\n",
    "    plt.legend();\n"
   ]
  },
  {
   "cell_type": "code",
   "execution_count": null,
   "metadata": {},
   "outputs": [],
   "source": []
  },
  {
   "cell_type": "code",
   "execution_count": null,
   "metadata": {},
   "outputs": [],
   "source": []
  }
 ],
 "metadata": {
  "kernelspec": {
   "display_name": "Python 3 (ipykernel)",
   "language": "python",
   "name": "python3"
  },
  "language_info": {
   "codemirror_mode": {
    "name": "ipython",
    "version": 3
   },
   "file_extension": ".py",
   "mimetype": "text/x-python",
   "name": "python",
   "nbconvert_exporter": "python",
   "pygments_lexer": "ipython3",
   "version": "3.10.14"
  }
 },
 "nbformat": 4,
 "nbformat_minor": 4
}
